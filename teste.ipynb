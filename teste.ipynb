{
 "cells": [
  {
   "cell_type": "code",
   "execution_count": 21,
   "metadata": {},
   "outputs": [],
   "source": [
    "import import_ipynb\n",
    "from main_videos import cv2, np\n"
   ]
  },
  {
   "cell_type": "code",
   "execution_count": 22,
   "metadata": {},
   "outputs": [],
   "source": [
    "from os import listdir\n",
    "from os.path import isfile, join\n",
    "mypath = \"D:/Users/gilne/Documents/GitHub/TF/pedestrian/videos\"\n",
    "files = [f for f in listdir(mypath) if isfile(join(mypath, f))]"
   ]
  },
  {
   "cell_type": "code",
   "execution_count": 23,
   "metadata": {},
   "outputs": [],
   "source": [
    "img = cv2.imread(r\"imagens/7.jpg\")\n",
    "vidcap = cv2.VideoCapture(\"videos\\MVI_2313.MOV\")\n",
    "success,img = vidcap.read()\n",
    "blur_img = cv2.GaussianBlur(img, (3, 3), 0)\n",
    "edges = cv2.Canny(blur_img, 250, 200, apertureSize=3)\n",
    "\n",
    "lines = cv2.HoughLines(edges, 1, np.pi / 180, 118)\n",
    "minLineLength = 800\n",
    "maxLineGap = 15\n",
    "threshold=80\n",
    "lines = cv2.HoughLinesP(edges, 1, np.pi / 180, threshold, minLineLength, maxLineGap)\n",
    "for i in range(len(lines)):\n",
    "    for x1, y1, x2, y2 in lines[i]:\n",
    "        cv2.line(img, (x1, y1), (x2, y2), (0, 255, 0), 4)\n",
    "cv2.imshow('blur', blur_img)\n",
    "cv2.imshow('canny', edges)\n",
    "cv2.imshow('Result', img)\n",
    "cv2.waitKey(0)\n",
    "cv2.destroyAllWindows()"
   ]
  },
  {
   "cell_type": "code",
   "execution_count": 32,
   "metadata": {},
   "outputs": [],
   "source": [
    "def treatment(img):\n",
    "    crop = int(img.shape[1]/15)\n",
    "    img = img[crop:,:]\n",
    "    gray = cv2.cvtColor(img, cv2.COLOR_BGR2GRAY)\n",
    "    blur_img = cv2.GaussianBlur(gray, (3, 3), 0)\n",
    "    edges = cv2.Canny(blur_img, 250, 500, apertureSize=3)\n",
    "    return edges"
   ]
  },
  {
   "cell_type": "code",
   "execution_count": 25,
   "metadata": {},
   "outputs": [],
   "source": [
    "def hough(video):\n",
    "    vidcap = cv2.VideoCapture(\"videos/\"+video)\n",
    "    success,img = vidcap.read()\n",
    "    \n",
    "    rho = 1  #Distance resolution of the accumulator in pixels.\n",
    "    theta = np.pi/180 # Angle resolution of the accumulator in radians.\n",
    "    threshold  = 80 #Accumulator threshold parameter. Only those lines are returned that get enough votes ( >\\texttt{threshold} ).\n",
    "    \n",
    "    edges = treatment(img)\n",
    "\n",
    "    lines = cv2.HoughLines(edges, rho, theta, threshold)\n",
    "\n",
    "    for i in range(len(lines)):\n",
    "        for r,th in lines[i]:\n",
    "            a = np.cos(th)\n",
    "            b = np.sin(th)\n",
    "            x0 = a*r\n",
    "            y0 = b*r\n",
    "            x1 = int(x0 + 1000*(-b))\n",
    "            y1 = int(y0 + 1000*(a))\n",
    "            x2 = int(x0 - 1000*(-b))\n",
    "            y2 = int(y0 - 1000*(a))\n",
    "\n",
    "            cv2.line(img,(x1,y1),(x2,y2),(0,255,0),2)\n",
    "\n",
    "    cv2.imshow('canny', edges)\n",
    "    cv2.imshow('Result', img)\n",
    "    cv2.waitKey(0)\n",
    "    cv2.destroyAllWindows()"
   ]
  },
  {
   "cell_type": "code",
   "execution_count": 34,
   "metadata": {},
   "outputs": [
    {
     "name": "stdout",
     "output_type": "stream",
     "text": [
      "Carlos VicariXVenâncio Aires.mp4 without lines\n",
      "F.MatarazzoXPompeia_170821.mp4 without lines\n",
      "TagipuruXDep.Salvador Julianeli.mp4 without lines\n",
      "TagipuruXDep.Salvador Julianeli_II.mp4 without lines\n"
     ]
    }
   ],
   "source": [
    "for file in files:\n",
    "    try:\n",
    "        hough(file)\n",
    "    except:\n",
    "        print(file+\" without lines\")\n",
    "        continue"
   ]
  },
  {
   "cell_type": "code",
   "execution_count": 27,
   "metadata": {},
   "outputs": [],
   "source": [
    "for file in files:\n",
    "    try:\n",
    "        vidcap = cv2.VideoCapture(\"videos/\"+file)\n",
    "        success,img = vidcap.read()\n",
    "        \n",
    "        edges = treatment(img)\n",
    "\n",
    "        cv2.imshow('canny', edges)\n",
    "        cv2.waitKey(0)\n",
    "        cv2.destroyAllWindows()\n",
    "    except:\n",
    "        print(file+\" without lines\")\n",
    "        continue"
   ]
  }
 ],
 "metadata": {
  "interpreter": {
   "hash": "ae5bbaad1c33f12f54970e432f59a86bd6244b0f1d395f0759b81bc66249eb28"
  },
  "kernelspec": {
   "display_name": "Python 3.9.6 64-bit ('tf_pedestres': venv)",
   "name": "python3"
  },
  "language_info": {
   "codemirror_mode": {
    "name": "ipython",
    "version": 3
   },
   "file_extension": ".py",
   "mimetype": "text/x-python",
   "name": "python",
   "nbconvert_exporter": "python",
   "pygments_lexer": "ipython3",
   "version": "3.9.6"
  },
  "orig_nbformat": 4
 },
 "nbformat": 4,
 "nbformat_minor": 2
}
