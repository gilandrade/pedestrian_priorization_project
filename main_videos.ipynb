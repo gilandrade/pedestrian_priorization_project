{
    "cells": [
        {
            "cell_type": "code",
            "execution_count": 69,
            "metadata": {},
            "outputs": [],
            "source": [
                "import cv2\n",
                "import numpy as np\n",
                "import math"
            ]
        },
        {
            "cell_type": "code",
            "execution_count": 70,
            "metadata": {},
            "outputs": [],
            "source": [
                "def show_image(image):\n",
                "    cv2.imshow(\"Image\",image)\n",
                "    while True:\n",
                "        key = cv2.waitKey(1)\n",
                "        if key == 27:  \n",
                "            break\n",
                "    cv2.destroyAllWindows()"
            ]
        },
        {
            "cell_type": "code",
            "execution_count": 71,
            "metadata": {},
            "outputs": [],
            "source": [
                "def treat_img(img):\n",
                "    gray = cv2.cvtColor(img, cv2.COLOR_BGR2GRAY)\n",
                "    blurred = cv2.GaussianBlur(gray,\n",
                "                                    (15, 15), 4)\n",
                "\n",
                "    ret, thresh = cv2.threshold(blurred,\n",
                "                                        180, 255,\n",
                "                                        cv2.THRESH_BINARY)\n",
                "\n",
                "    contours, hier = cv2.findContours(thresh.copy(),\n",
                "                                            cv2.RETR_TREE,\n",
                "                                            cv2.CHAIN_APPROX_SIMPLE)\n",
                "    #show_image(img)\n",
                "    #show_image(thresh)\n",
                "\n",
                "    return contours"
            ]
        },
        {
            "cell_type": "code",
            "execution_count": 72,
            "metadata": {},
            "outputs": [],
            "source": [
                "def average_centroid(centroids):\n",
                "    x = []\n",
                "    y = []\n",
                "    totalx = 0\n",
                "    totaly = 0\n",
                "    for center in centroids:\n",
                "        x.append(center[0])\n",
                "        y.append(center[1])\n",
                "    for i in range(len(x)):\n",
                "        totalx += x[i]\n",
                "        totaly += y[i]\n",
                "    centroid = [totalx/len(x),totaly/len(y)]\n",
                "    return centroid\n"
            ]
        },
        {
            "cell_type": "code",
            "execution_count": 73,
            "metadata": {},
            "outputs": [],
            "source": [
                "def draw_rectangles(img,i):\n",
                "    H,W,colors = img.shape #get width and height\n",
                "    centroids = []\n",
                "\n",
                "    for c in contours:\n",
                "        # if the contour is not sufficiently large, ignore it\n",
                "        if  cv2.contourArea(c) < (H*W)/2000: #lower limit\n",
                "            continue\n",
                "\n",
                "        if  cv2.contourArea(c) > (H*W)/100: #upper limit\n",
                "            continue\n",
                "\n",
                "        # get the min area rect\n",
                "        rect = cv2.minAreaRect(c)\n",
                "        (x, y), (w, h), angle = rect\n",
                "        aspect_ratio = max(w, h) / min(w, h)\n",
                "        center = [x + 0.5*w,y + 0.5*h]\n",
                "\n",
                "        # Assume zebra line must be long and narrow (long part must be at lease 1.5 times the narrow part).\n",
                "        if (aspect_ratio > 6):\n",
                "            box = cv2.boxPoints(rect)\n",
                "            # convert all coordinates floating point values to int\n",
                "            box = np.int0(box)\n",
                "            # draw a red 'nghien' rectangle\n",
                "            cv2.drawContours(img, [box], 0, (0, 0, 255), 2)\n",
                "            centroids.append(center) \n",
                "\n",
                "    centroid = average_centroid(centroids)        \n",
                "    cv2.imwrite('resultados/resultado_{}.jpg'.format(i), img)\n",
                "    #cv2.imshow(\"rectangles\", img)\n",
                "    return centroid"
            ]
        },
        {
            "cell_type": "code",
            "execution_count": 74,
            "metadata": {},
            "outputs": [],
            "source": [
                "def dist(tuple1, tuple2):\n",
                "    deltax = tuple1[0]-tuple2[0]\n",
                "    deltay = tuple1[1]-tuple2[1]\n",
                "    dist = math.sqrt(deltax*deltax + deltay*deltay)\n",
                "    return dist"
            ]
        },
        {
            "cell_type": "code",
            "execution_count": 75,
            "metadata": {},
            "outputs": [],
            "source": [
                "def draw_rectangles_centroid(img,i,centroid):\n",
                "    H,W,colors = img.shape #get width and height\n",
                "\n",
                "    for c in contours:\n",
                "        # if the contour is not sufficiently large, ignore it\n",
                "        if  cv2.contourArea(c) < (H*W)/2000: #lower limit\n",
                "            continue\n",
                "\n",
                "        if  cv2.contourArea(c) > (H*W)/100: #upper limit\n",
                "            continue\n",
                "\n",
                "        # get the min area rect\n",
                "        rect = cv2.minAreaRect(c)\n",
                "        (x, y), (w, h), angle = rect\n",
                "        aspect_ratio = max(w, h) / min(w, h)\n",
                "        center = [x + 0.5*w,y + 0.5*h]\n",
                "\n",
                "\n",
                "        # Assume zebra line must be long and narrow (long part must be at lease 1.5 times the narrow part).\n",
                "        if (aspect_ratio > 6):\n",
                "            if dist(center,centroid) < (max(H,W)/10):\n",
                "                box = cv2.boxPoints(rect)\n",
                "                # convert all coordinates floating point values to int\n",
                "                box = np.int0(box)\n",
                "                # draw a red 'nghien' rectangle\n",
                "                cv2.drawContours(img, [box], 0, (0, 0, 255), 2)\n",
                "\n",
                "     \n",
                "    cv2.imwrite('resultados/resultado_{}.jpg'.format(i), img)\n",
                "    #cv2.imshow(\"rectangles\", img)"
            ]
        },
        {
            "cell_type": "code",
            "execution_count": 76,
            "metadata": {},
            "outputs": [
                {
                    "name": "stdout",
                    "output_type": "stream",
                    "text": [
                        "[978.2722703933716, 821.7899458169937]\n"
                    ]
                }
            ],
            "source": [
                "vidcap = cv2.VideoCapture(\"videos\\MVI_2313.MOV\")\n",
                "success,img = vidcap.read()\n",
                "contours = treat_img(img)\n",
                "i=20\n",
                "centroid = draw_rectangles(img,i)\n",
                "print(centroid)"
            ]
        },
        {
            "cell_type": "code",
            "execution_count": 77,
            "metadata": {},
            "outputs": [],
            "source": [
                "vidcap = cv2.VideoCapture(\"videos\\MVI_2313.MOV\")\n",
                "success,img = vidcap.read()\n",
                "contours = treat_img(img)\n",
                "i=21\n",
                "draw_rectangles_centroid(img,i,centroid)"
            ]
        }
    ],
    "metadata": {
        "interpreter": {
            "hash": "ae5bbaad1c33f12f54970e432f59a86bd6244b0f1d395f0759b81bc66249eb28"
        },
        "kernelspec": {
            "display_name": "Python 3.9.6 64-bit ('tf_pedestres': venv)",
            "name": "python3"
        },
        "language_info": {
            "codemirror_mode": {
                "name": "ipython",
                "version": 3
            },
            "file_extension": ".py",
            "mimetype": "text/x-python",
            "name": "python",
            "nbconvert_exporter": "python",
            "pygments_lexer": "ipython3",
            "version": "3.9.6"
        },
        "orig_nbformat": 4
    },
    "nbformat": 4,
    "nbformat_minor": 2
}
